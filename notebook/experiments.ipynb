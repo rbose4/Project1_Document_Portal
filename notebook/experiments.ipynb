{
 "cells": [
  {
   "cell_type": "markdown",
   "id": "ad8cb20e",
   "metadata": {},
   "source": [
    "# Project : Document Analysis, Comparison and chat using RAG."
   ]
  },
  {
   "cell_type": "markdown",
   "id": "ab09e717",
   "metadata": {},
   "source": [
    "### Loading environment variables, LLM models and Embedding models"
   ]
  },
  {
   "cell_type": "code",
   "execution_count": 1,
   "id": "2b40dd99",
   "metadata": {},
   "outputs": [
    {
     "name": "stdout",
     "output_type": "stream",
     "text": [
      "All ok\n"
     ]
    }
   ],
   "source": [
    "print(\"All ok\")"
   ]
  },
  {
   "cell_type": "code",
   "execution_count": 2,
   "id": "a3db2739",
   "metadata": {},
   "outputs": [
    {
     "data": {
      "text/plain": [
       "True"
      ]
     },
     "execution_count": 2,
     "metadata": {},
     "output_type": "execute_result"
    }
   ],
   "source": [
    "## Load environment variables\n",
    "from dotenv import load_dotenv\n",
    "\n",
    "load_dotenv()"
   ]
  },
  {
   "cell_type": "code",
   "execution_count": 3,
   "id": "f848016d",
   "metadata": {},
   "outputs": [],
   "source": [
    "## Load LLM model from groq\n",
    "from langchain_groq import ChatGroq\n",
    "\n",
    "model = ChatGroq(model=\"qwen/qwen3-32b\")\n"
   ]
  },
  {
   "cell_type": "code",
   "execution_count": 4,
   "id": "f57f8d10",
   "metadata": {},
   "outputs": [
    {
     "data": {
      "text/plain": [
       "'<think>\\nOkay, the user asked What is an LLM? First, I need to make sure I understand the question and provide a clear and accurate answer. LLM is the abbreviation for Large Language Model, but I need to explain it in more detail.\\n\\nFirst, the definition part. LLMs are machine learning models trained on large amounts of text data to generate text, answer questions, etc. Need to mention their basic functions, such as text generation, translation, summarization, etc. Also, the characteristics, such as large parameter size, self-learning ability, etc.\\n\\nThen, the working principle. Maybe mention the training process, like using a lot of text data, using deep learning algorithms, such as transformer architecture, which is commonly used in LLMs. Emphasize that during training, the model learns patterns and relationships in the text, enabling it to predict the next word or understand context.\\n\\nApplications are also important. Need to list some common application scenarios, such as chatbots, content creation, code generation, etc. Also mention the different use cases, like customer service, education, healthcare, etc.\\n\\nCurrent popular models can be mentioned, such as GPT series, BERT, etc., but since the user didn\\'t ask specifically, maybe just a brief mention.\\n\\nLimitations and challenges should also be considered, such as high computational costs, potential bias in training data, and ethical issues. But since the user\\'s question is more about what it is, maybe this part can be briefly mentioned or omitted unless the user asks for it.\\n\\nThe user might be a student, researcher, or just curious about AI. The answer should be accessible to different audiences, avoiding too much jargon. However, since it\\'s about LLMs, some technical terms are necessary, but need to be explained simply.\\n\\nCheck if there are any misunderstandings. For example, some people might confuse LLMs with general AI, but they are just language models. Clarify that LLMs are a type of AI model, not general AI.\\n\\nStructure the answer logically: start with a definition, then explain how they work, applications, and maybe current examples. Keep it concise but comprehensive.\\n\\nMake sure the answer is in Chinese as per the user\\'s request. Use clear and simple language, avoid overly technical terms unless necessary, and explain them when used.\\n\\nDouble-check for any errors in the information, like the correct names of models and their features. Ensure that the explanation is up-to-date with the current state of LLM technology.\\n\\nFinally, summarize the key points to reinforce the main ideas. Make sure the answer flows well from one section to the next, maintaining coherence.\\n</think>\\n\\nA **Large Language Model (LLM)** is an advanced type of artificial intelligence designed to understand, analyze, and generate human-like text. It is trained on vast amounts of data from the internet, books, articles, and other textual sources, enabling it to perform a wide range of language-related tasks. Here\\'s a breakdown of its key aspects:\\n\\n---\\n\\n### **1. Definition & Core Function**\\n- **What it does**: LLMs process and generate text in natural language (e.g., English, Chinese). They can write essays, answer questions, translate languages, summarize content, write code, and even engage in creative tasks like storytelling.\\n- **Key feature**: They are \"large\" due to their massive number of parameters (often in the billions), which allows them to capture complex patterns in language.\\n\\n---\\n\\n### **2. How It Works**\\n- **Training process**: \\n  - LLMs are trained using deep learning techniques, particularly **transformer architectures** (e.g., the attention mechanism introduced by the Transformer model).\\n  - During training, the model learns to predict the next word in a sentence or fill in missing words, gradually understanding grammar, context, and semantics.\\n- **Self-learning**: By analyzing vast datasets, LLMs can infer knowledge without explicit programming for specific tasks.\\n\\n---\\n\\n### **3. Applications**\\nLLMs are used in diverse fields:\\n- **Conversational AI**: Chatbots (e.g., Qwen, ChatGPT) for customer service, virtual assistants, and interactive dialogue.\\n- **Content Creation**: Writing articles, scripts, or social media posts.\\n- **Code Generation**: Writing or debugging code in programming languages.\\n- **Translation**: Translating text between languages with high accuracy.\\n- **Education**: Tutoring, generating study materials, or answering student questions.\\n- **Healthcare**: Assisting with medical research or patient communication.\\n\\n---\\n\\n### **4. Examples of Popular LLMs**\\n- **GPT series** (e.g., GPT-3, GPT-4 by OpenAI)\\n- **Bert, RoBERTa** (for understanding context in text)\\n- **Qwen** (Tongyi Lab\\'s model)\\n- **Llama series** (Meta\\'s open-source models)\\n- **PaLM** (Google\\'s model)\\n\\n---\\n\\n### **5. Limitations & Challenges**\\n- **Data dependency**: Quality and bias in training data can affect outputs.\\n- **Computational cost**: Training and running LLMs require significant resources.\\n- **Ethical concerns**: Risks of misinformation, plagiarism, or misuse (e.g., deepfakes).\\n- **Lack of true understanding**: LLMs \"simulate\" understanding but do not possess consciousness or reasoning like humans.\\n\\n---\\n\\n### **6. Future Trends**\\n- **Specialization**: Models tailored for niche domains (e.g., legal, medical).\\n- **Efficiency**: Smaller, faster models for edge devices (e.g., smartphones).\\n- **Multimodality**: Integrating text, images, audio, and video for richer interactions.\\n- **Ethical AI**: Improved alignment with human values and transparency.\\n\\n---\\n\\n### **In Summary**\\nAn LLM is a powerful AI tool that transforms how we interact with technology by enabling machines to understand and generate human language. While it has revolutionized industries, its responsible use requires addressing technical, ethical, and societal challenges.'"
      ]
     },
     "execution_count": 4,
     "metadata": {},
     "output_type": "execute_result"
    }
   ],
   "source": [
    "# Check if the model is working\n",
    "response = model.invoke(\"What is an LLM?\")\n",
    "response.content"
   ]
  },
  {
   "cell_type": "code",
   "execution_count": 5,
   "id": "90eeedcc",
   "metadata": {},
   "outputs": [
    {
     "name": "stdout",
     "output_type": "stream",
     "text": [
      "<think>\n",
      "Okay, the user asked What is an LLM? First, I need to make sure I understand the question and provide a clear and accurate answer. LLM is the abbreviation for Large Language Model, but I need to explain it in more detail.\n",
      "\n",
      "First, the definition part. LLMs are machine learning models trained on large amounts of text data to generate text, answer questions, etc. Need to mention their basic functions, such as text generation, translation, summarization, etc. Also, the characteristics, such as large parameter size, self-learning ability, etc.\n",
      "\n",
      "Then, the working principle. Maybe mention the training process, like using a lot of text data, using deep learning algorithms, such as transformer architecture, which is commonly used in LLMs. Emphasize that during training, the model learns patterns and relationships in the text, enabling it to predict the next word or understand context.\n",
      "\n",
      "Applications are also important. Need to list some common application scenarios, such as chatbots, content creation, code generation, etc. Also mention the different use cases, like customer service, education, healthcare, etc.\n",
      "\n",
      "Current popular models can be mentioned, such as GPT series, BERT, etc., but since the user didn't ask specifically, maybe just a brief mention.\n",
      "\n",
      "Limitations and challenges should also be considered, such as high computational costs, potential bias in training data, and ethical issues. But since the user's question is more about what it is, maybe this part can be briefly mentioned or omitted unless the user asks for it.\n",
      "\n",
      "The user might be a student, researcher, or just curious about AI. The answer should be accessible to different audiences, avoiding too much jargon. However, since it's about LLMs, some technical terms are necessary, but need to be explained simply.\n",
      "\n",
      "Check if there are any misunderstandings. For example, some people might confuse LLMs with general AI, but they are just language models. Clarify that LLMs are a type of AI model, not general AI.\n",
      "\n",
      "Structure the answer logically: start with a definition, then explain how they work, applications, and maybe current examples. Keep it concise but comprehensive.\n",
      "\n",
      "Make sure the answer is in Chinese as per the user's request. Use clear and simple language, avoid overly technical terms unless necessary, and explain them when used.\n",
      "\n",
      "Double-check for any errors in the information, like the correct names of models and their features. Ensure that the explanation is up-to-date with the current state of LLM technology.\n",
      "\n",
      "Finally, summarize the key points to reinforce the main ideas. Make sure the answer flows well from one section to the next, maintaining coherence.\n",
      "</think>\n",
      "\n",
      "A **Large Language Model (LLM)** is an advanced type of artificial intelligence designed to understand, analyze, and generate human-like text. It is trained on vast amounts of data from the internet, books, articles, and other textual sources, enabling it to perform a wide range of language-related tasks. Here's a breakdown of its key aspects:\n",
      "\n",
      "---\n",
      "\n",
      "### **1. Definition & Core Function**\n",
      "- **What it does**: LLMs process and generate text in natural language (e.g., English, Chinese). They can write essays, answer questions, translate languages, summarize content, write code, and even engage in creative tasks like storytelling.\n",
      "- **Key feature**: They are \"large\" due to their massive number of parameters (often in the billions), which allows them to capture complex patterns in language.\n",
      "\n",
      "---\n",
      "\n",
      "### **2. How It Works**\n",
      "- **Training process**: \n",
      "  - LLMs are trained using deep learning techniques, particularly **transformer architectures** (e.g., the attention mechanism introduced by the Transformer model).\n",
      "  - During training, the model learns to predict the next word in a sentence or fill in missing words, gradually understanding grammar, context, and semantics.\n",
      "- **Self-learning**: By analyzing vast datasets, LLMs can infer knowledge without explicit programming for specific tasks.\n",
      "\n",
      "---\n",
      "\n",
      "### **3. Applications**\n",
      "LLMs are used in diverse fields:\n",
      "- **Conversational AI**: Chatbots (e.g., Qwen, ChatGPT) for customer service, virtual assistants, and interactive dialogue.\n",
      "- **Content Creation**: Writing articles, scripts, or social media posts.\n",
      "- **Code Generation**: Writing or debugging code in programming languages.\n",
      "- **Translation**: Translating text between languages with high accuracy.\n",
      "- **Education**: Tutoring, generating study materials, or answering student questions.\n",
      "- **Healthcare**: Assisting with medical research or patient communication.\n",
      "\n",
      "---\n",
      "\n",
      "### **4. Examples of Popular LLMs**\n",
      "- **GPT series** (e.g., GPT-3, GPT-4 by OpenAI)\n",
      "- **Bert, RoBERTa** (for understanding context in text)\n",
      "- **Qwen** (Tongyi Lab's model)\n",
      "- **Llama series** (Meta's open-source models)\n",
      "- **PaLM** (Google's model)\n",
      "\n",
      "---\n",
      "\n",
      "### **5. Limitations & Challenges**\n",
      "- **Data dependency**: Quality and bias in training data can affect outputs.\n",
      "- **Computational cost**: Training and running LLMs require significant resources.\n",
      "- **Ethical concerns**: Risks of misinformation, plagiarism, or misuse (e.g., deepfakes).\n",
      "- **Lack of true understanding**: LLMs \"simulate\" understanding but do not possess consciousness or reasoning like humans.\n",
      "\n",
      "---\n",
      "\n",
      "### **6. Future Trends**\n",
      "- **Specialization**: Models tailored for niche domains (e.g., legal, medical).\n",
      "- **Efficiency**: Smaller, faster models for edge devices (e.g., smartphones).\n",
      "- **Multimodality**: Integrating text, images, audio, and video for richer interactions.\n",
      "- **Ethical AI**: Improved alignment with human values and transparency.\n",
      "\n",
      "---\n",
      "\n",
      "### **In Summary**\n",
      "An LLM is a powerful AI tool that transforms how we interact with technology by enabling machines to understand and generate human language. While it has revolutionized industries, its responsible use requires addressing technical, ethical, and societal challenges.\n"
     ]
    }
   ],
   "source": [
    "print(response.content)"
   ]
  },
  {
   "cell_type": "code",
   "execution_count": null,
   "id": "9d2360a3",
   "metadata": {},
   "outputs": [],
   "source": [
    "# Load embedding model from Google\n",
    "\n",
    "# Latest embedding model - gemini-embedding-001  has length 3072. \n",
    "# Embedding length for model embedding-001 is 768\n",
    "\n",
    "from langchain_google_genai import GoogleGenerativeAIEmbeddings\n",
    "\n",
    "embedding_model = GoogleGenerativeAIEmbeddings(model=\"models/embedding-001\")\n",
    "#embedding_model = GoogleGenerativeAIEmbeddings(model=\"gemini-embedding-001\")\n"
   ]
  },
  {
   "cell_type": "code",
   "execution_count": null,
   "id": "30c20ee9",
   "metadata": {},
   "outputs": [],
   "source": [
    "query_embedding = embedding_model.embed_query(\"My name is coolcoder\")"
   ]
  },
  {
   "cell_type": "code",
   "execution_count": null,
   "id": "01c7d0dd",
   "metadata": {},
   "outputs": [
    {
     "data": {
      "text/plain": [
       "768"
      ]
     },
     "execution_count": 8,
     "metadata": {},
     "output_type": "execute_result"
    }
   ],
   "source": [
    "len(query_embedding)"
   ]
  },
  {
   "cell_type": "markdown",
   "id": "5b10e277",
   "metadata": {},
   "source": [
    "### 1. Data Ingestion"
   ]
  },
  {
   "cell_type": "code",
   "execution_count": null,
   "id": "2fb1ab63",
   "metadata": {},
   "outputs": [],
   "source": [
    "from langchain.document_loaders import PyPDFLoader"
   ]
  }
 ],
 "metadata": {
  "kernelspec": {
   "display_name": "Python 3",
   "language": "python",
   "name": "python3"
  },
  "language_info": {
   "codemirror_mode": {
    "name": "ipython",
    "version": 3
   },
   "file_extension": ".py",
   "mimetype": "text/x-python",
   "name": "python",
   "nbconvert_exporter": "python",
   "pygments_lexer": "ipython3",
   "version": "3.10.18"
  }
 },
 "nbformat": 4,
 "nbformat_minor": 5
}
