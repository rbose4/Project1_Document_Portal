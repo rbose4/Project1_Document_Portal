{
 "cells": [
  {
   "cell_type": "markdown",
   "id": "ad8cb20e",
   "metadata": {},
   "source": [
    "## Project : Document Analysis, Comparison and chat using RAG."
   ]
  },
  {
   "cell_type": "code",
   "execution_count": 1,
   "id": "2b40dd99",
   "metadata": {},
   "outputs": [
    {
     "name": "stdout",
     "output_type": "stream",
     "text": [
      "All ok\n"
     ]
    }
   ],
   "source": [
    "print(\"All ok\")"
   ]
  },
  {
   "cell_type": "code",
   "execution_count": 2,
   "id": "a3db2739",
   "metadata": {},
   "outputs": [
    {
     "data": {
      "text/plain": [
       "True"
      ]
     },
     "execution_count": 2,
     "metadata": {},
     "output_type": "execute_result"
    }
   ],
   "source": [
    "## Load environment variables\n",
    "from dotenv import load_dotenv\n",
    "\n",
    "load_dotenv()"
   ]
  },
  {
   "cell_type": "code",
   "execution_count": 3,
   "id": "f848016d",
   "metadata": {},
   "outputs": [],
   "source": [
    "## Load LLM model from groq\n",
    "from langchain_groq import ChatGroq\n",
    "\n",
    "model = ChatGroq(model=\"qwen/qwen3-32b\")\n"
   ]
  },
  {
   "cell_type": "code",
   "execution_count": 4,
   "id": "f57f8d10",
   "metadata": {},
   "outputs": [
    {
     "data": {
      "text/plain": [
       "'<think>\\nOkay, the user is asking, What is an LLM? I need to start by defining the term clearly. LLM stands for Large Language Model. I should explain that it\\'s an AI model trained on a vast amount of text data to understand and generate human-like text. Let me mention the training process, like machine learning techniques and natural language processing.\\n\\nNext, I should highlight the main functions of LLMs. They can answer questions, write stories, emails, code, and do translations. Maybe give examples to make it more relatable. Also, it\\'s important to talk about their applications in different fields: customer service, education, healthcare, etc. But I shouldn\\'t forget to mention the challenges too, such as potential biases, data privacy issues, and the energy consumption involved in training these models.\\n\\nWait, the user might also be interested in how LLMs differ from other AI models. Maybe I should compare them to traditional AI, pointing out their ability to handle natural language more effectively. Also, touch on the underlying technologies like deep learning and neural networks. Oh, and popular examples like GPT, BERT, or Llama could be useful for the user to reference.\\n\\nI need to make sure the explanation is accessible, avoiding too much jargon. Maybe start with a simple definition and then break down the components and applications. Also, address both the benefits and the limitations to give a balanced view. Let me structure the answer with a clear introduction, then sections on how they work, applications, challenges, and maybe a conclusion summarizing their impact.\\n</think>\\n\\nA **Large Language Model (LLM)** is an advanced type of artificial intelligence (AI) designed to understand, generate, and interact with human language. These models are trained on massive datasets of text (e.g., books, articles, websites) using machine learning techniques to recognize patterns, relationships, and context in language. Here\\'s a breakdown of their key aspects:\\n\\n---\\n\\n### **Core Features of LLMs**\\n1. **Training Process**:\\n   - LLMs are trained using **deep learning** (neural networks with many layers) and **natural language processing (NLP)**.\\n   - They learn by analyzing vast amounts of text to predict the next word in a sequence (a process called **language modeling**).\\n   - Training requires enormous computational resources and time.\\n\\n2. **Capabilities**:\\n   - **Text Generation**: Write stories, emails, code, or creative content.\\n   - **Question-Answering**: Provide concise or detailed answers to factual or open-ended questions.\\n   - **Translation**: Translate text between languages.\\n   - **Dialogue**: Engage in conversations (e.g., chatbots, virtual assistants).\\n   - **Summarization**: Condense long documents into key points.\\n   - **Code Generation**: Write or debug programming code.\\n\\n3. **How They Work**:\\n   - LLMs use **transformer architectures**, which focus on relationships between words (tokens) in a sentence.\\n   - They rely on **attention mechanisms** to weigh the importance of different parts of input text.\\n   - Pre-trained models are fine-tuned for specific tasks (e.g., medical diagnosis, customer support).\\n\\n---\\n\\n### **Applications**\\nLLMs power tools like:\\n- **Chatbots** (e.g., customer service bots, virtual assistants like Siri or Alexa).\\n- **Content Creation** (e.g., article writing, social media copy).\\n- **Education** (e.g., tutoring, language learning).\\n- **Healthcare** (e.g., medical literature analysis, diagnostic support).\\n- **Business** (e.g., data analysis, market research).\\n\\n---\\n\\n### **Notable Examples**\\n- **GPT series** (by OpenAI): GPT-3, GPT-4.\\n- **Llama series** (by Meta): Llama, Llama 2, Llama 3.\\n- **Google\\'s Gemini**.\\n- **Anthropic\\'s Claude**.\\n\\n---\\n\\n### **Challenges and Limitations**\\n1. **Bias and Fairness**: Models can inherit biases from training data.\\n2. **Accuracy**: May generate plausible but incorrect answers (\"hallucinations\").\\n3. **Privacy**: Training data may include sensitive information.\\n4. **Energy Consumption**: Training requires significant computational power and energy.\\n5. **Ethical Risks**: Misuse for spam, misinformation, or deepfakes.\\n\\n---\\n\\n### **Why They Matter**\\nLLMs are transforming how humans interact with technology, enabling more natural and intuitive interfaces. They are also driving innovation in AI research, pushing boundaries in areas like multilingual support, reasoning, and adaptability.\\n\\nIf you\\'d like, I can dive deeper into specific aspects, like how LLMs are trained or their ethical implications!'"
      ]
     },
     "execution_count": 4,
     "metadata": {},
     "output_type": "execute_result"
    }
   ],
   "source": [
    "# Check if the model is working\n",
    "response = model.invoke(\"What is an LLM?\")\n",
    "response.content"
   ]
  },
  {
   "cell_type": "code",
   "execution_count": 5,
   "id": "90eeedcc",
   "metadata": {},
   "outputs": [
    {
     "name": "stdout",
     "output_type": "stream",
     "text": [
      "<think>\n",
      "Okay, the user is asking, What is an LLM? I need to start by defining the term clearly. LLM stands for Large Language Model. I should explain that it's an AI model trained on a vast amount of text data to understand and generate human-like text. Let me mention the training process, like machine learning techniques and natural language processing.\n",
      "\n",
      "Next, I should highlight the main functions of LLMs. They can answer questions, write stories, emails, code, and do translations. Maybe give examples to make it more relatable. Also, it's important to talk about their applications in different fields: customer service, education, healthcare, etc. But I shouldn't forget to mention the challenges too, such as potential biases, data privacy issues, and the energy consumption involved in training these models.\n",
      "\n",
      "Wait, the user might also be interested in how LLMs differ from other AI models. Maybe I should compare them to traditional AI, pointing out their ability to handle natural language more effectively. Also, touch on the underlying technologies like deep learning and neural networks. Oh, and popular examples like GPT, BERT, or Llama could be useful for the user to reference.\n",
      "\n",
      "I need to make sure the explanation is accessible, avoiding too much jargon. Maybe start with a simple definition and then break down the components and applications. Also, address both the benefits and the limitations to give a balanced view. Let me structure the answer with a clear introduction, then sections on how they work, applications, challenges, and maybe a conclusion summarizing their impact.\n",
      "</think>\n",
      "\n",
      "A **Large Language Model (LLM)** is an advanced type of artificial intelligence (AI) designed to understand, generate, and interact with human language. These models are trained on massive datasets of text (e.g., books, articles, websites) using machine learning techniques to recognize patterns, relationships, and context in language. Here's a breakdown of their key aspects:\n",
      "\n",
      "---\n",
      "\n",
      "### **Core Features of LLMs**\n",
      "1. **Training Process**:\n",
      "   - LLMs are trained using **deep learning** (neural networks with many layers) and **natural language processing (NLP)**.\n",
      "   - They learn by analyzing vast amounts of text to predict the next word in a sequence (a process called **language modeling**).\n",
      "   - Training requires enormous computational resources and time.\n",
      "\n",
      "2. **Capabilities**:\n",
      "   - **Text Generation**: Write stories, emails, code, or creative content.\n",
      "   - **Question-Answering**: Provide concise or detailed answers to factual or open-ended questions.\n",
      "   - **Translation**: Translate text between languages.\n",
      "   - **Dialogue**: Engage in conversations (e.g., chatbots, virtual assistants).\n",
      "   - **Summarization**: Condense long documents into key points.\n",
      "   - **Code Generation**: Write or debug programming code.\n",
      "\n",
      "3. **How They Work**:\n",
      "   - LLMs use **transformer architectures**, which focus on relationships between words (tokens) in a sentence.\n",
      "   - They rely on **attention mechanisms** to weigh the importance of different parts of input text.\n",
      "   - Pre-trained models are fine-tuned for specific tasks (e.g., medical diagnosis, customer support).\n",
      "\n",
      "---\n",
      "\n",
      "### **Applications**\n",
      "LLMs power tools like:\n",
      "- **Chatbots** (e.g., customer service bots, virtual assistants like Siri or Alexa).\n",
      "- **Content Creation** (e.g., article writing, social media copy).\n",
      "- **Education** (e.g., tutoring, language learning).\n",
      "- **Healthcare** (e.g., medical literature analysis, diagnostic support).\n",
      "- **Business** (e.g., data analysis, market research).\n",
      "\n",
      "---\n",
      "\n",
      "### **Notable Examples**\n",
      "- **GPT series** (by OpenAI): GPT-3, GPT-4.\n",
      "- **Llama series** (by Meta): Llama, Llama 2, Llama 3.\n",
      "- **Google's Gemini**.\n",
      "- **Anthropic's Claude**.\n",
      "\n",
      "---\n",
      "\n",
      "### **Challenges and Limitations**\n",
      "1. **Bias and Fairness**: Models can inherit biases from training data.\n",
      "2. **Accuracy**: May generate plausible but incorrect answers (\"hallucinations\").\n",
      "3. **Privacy**: Training data may include sensitive information.\n",
      "4. **Energy Consumption**: Training requires significant computational power and energy.\n",
      "5. **Ethical Risks**: Misuse for spam, misinformation, or deepfakes.\n",
      "\n",
      "---\n",
      "\n",
      "### **Why They Matter**\n",
      "LLMs are transforming how humans interact with technology, enabling more natural and intuitive interfaces. They are also driving innovation in AI research, pushing boundaries in areas like multilingual support, reasoning, and adaptability.\n",
      "\n",
      "If you'd like, I can dive deeper into specific aspects, like how LLMs are trained or their ethical implications!\n"
     ]
    }
   ],
   "source": [
    "print(response.content)"
   ]
  },
  {
   "cell_type": "code",
   "execution_count": 14,
   "id": "9d2360a3",
   "metadata": {},
   "outputs": [],
   "source": [
    "# Load embedding model from Google\n",
    "\n",
    "# Latest embedding model - gemini-embedding-001  has length 3072. \n",
    "# Embedding length for model embedding-001 is 768\n",
    "\n",
    "from langchain_google_genai import GoogleGenerativeAIEmbeddings\n",
    "\n",
    "embedding_model = GoogleGenerativeAIEmbeddings(model=\"models/embedding-001\")\n",
    "#embedding_model = GoogleGenerativeAIEmbeddings(model=\"gemini-embedding-001\")"
   ]
  },
  {
   "cell_type": "code",
   "execution_count": 15,
   "id": "30c20ee9",
   "metadata": {},
   "outputs": [],
   "source": [
    "query_embeding = embedding_model.embed_query(\"My name is coolcoder\")"
   ]
  },
  {
   "cell_type": "code",
   "execution_count": 16,
   "id": "01c7d0dd",
   "metadata": {},
   "outputs": [
    {
     "data": {
      "text/plain": [
       "768"
      ]
     },
     "execution_count": 16,
     "metadata": {},
     "output_type": "execute_result"
    }
   ],
   "source": [
    "len(query_embeding)"
   ]
  },
  {
   "cell_type": "code",
   "execution_count": null,
   "id": "2fb1ab63",
   "metadata": {},
   "outputs": [],
   "source": []
  }
 ],
 "metadata": {
  "kernelspec": {
   "display_name": "Python 3",
   "language": "python",
   "name": "python3"
  },
  "language_info": {
   "codemirror_mode": {
    "name": "ipython",
    "version": 3
   },
   "file_extension": ".py",
   "mimetype": "text/x-python",
   "name": "python",
   "nbconvert_exporter": "python",
   "pygments_lexer": "ipython3",
   "version": "3.10.18"
  }
 },
 "nbformat": 4,
 "nbformat_minor": 5
}
